{
  "nbformat": 4,
  "nbformat_minor": 0,
  "metadata": {
    "colab": {
      "name": "Feature Scaling Z-score/Standardlisation.ipynb",
      "provenance": [],
      "collapsed_sections": [],
      "mount_file_id": "1SSyAnOh-4fCrqbDZZteFD8L5vkQgnwWr",
      "authorship_tag": "ABX9TyOVrjKaYW3o4gDNQ5SevH9Z",
      "include_colab_link": true
    },
    "kernelspec": {
      "name": "python3",
      "display_name": "Python 3"
    },
    "language_info": {
      "name": "python"
    }
  },
  "cells": [
    {
      "cell_type": "markdown",
      "metadata": {
        "id": "view-in-github",
        "colab_type": "text"
      },
      "source": [
        "<a href=\"https://colab.research.google.com/github/Tusharbhawsar/Feature-Engineering/blob/main/Feature%20Scaling/Z-score%20or%20Standardlisation/Z_score_Standardlisation.ipynb\" target=\"_parent\"><img src=\"https://colab.research.google.com/assets/colab-badge.svg\" alt=\"Open In Colab\"/></a>"
      ]
    },
    {
      "cell_type": "code",
      "metadata": {
        "id": "gZ3X7XuFLS-8"
      },
      "source": [
        "import pandas as pd"
      ],
      "execution_count": null,
      "outputs": []
    },
    {
      "cell_type": "code",
      "metadata": {
        "id": "V79j_XoCMN34"
      },
      "source": [
        "path=\"/content/drive/MyDrive/excel files/Feature Engeering/Social_Network_Ads.csv\""
      ],
      "execution_count": null,
      "outputs": []
    },
    {
      "cell_type": "code",
      "metadata": {
        "id": "s8WMWjt6MO2Y"
      },
      "source": [
        "df=pd.read_csv(path)"
      ],
      "execution_count": null,
      "outputs": []
    },
    {
      "cell_type": "code",
      "metadata": {
        "colab": {
          "base_uri": "https://localhost:8080/",
          "height": 206
        },
        "id": "wOyP5iAhOMQb",
        "outputId": "b320ffe4-25bb-4ce0-922e-8cb97bd8c61e"
      },
      "source": [
        "df.head()"
      ],
      "execution_count": null,
      "outputs": [
        {
          "output_type": "execute_result",
          "data": {
            "text/html": [
              "<div>\n",
              "<style scoped>\n",
              "    .dataframe tbody tr th:only-of-type {\n",
              "        vertical-align: middle;\n",
              "    }\n",
              "\n",
              "    .dataframe tbody tr th {\n",
              "        vertical-align: top;\n",
              "    }\n",
              "\n",
              "    .dataframe thead th {\n",
              "        text-align: right;\n",
              "    }\n",
              "</style>\n",
              "<table border=\"1\" class=\"dataframe\">\n",
              "  <thead>\n",
              "    <tr style=\"text-align: right;\">\n",
              "      <th></th>\n",
              "      <th>User ID</th>\n",
              "      <th>Gender</th>\n",
              "      <th>Age</th>\n",
              "      <th>EstimatedSalary</th>\n",
              "      <th>Purchased</th>\n",
              "    </tr>\n",
              "  </thead>\n",
              "  <tbody>\n",
              "    <tr>\n",
              "      <th>0</th>\n",
              "      <td>15624510</td>\n",
              "      <td>Male</td>\n",
              "      <td>19</td>\n",
              "      <td>19000</td>\n",
              "      <td>0</td>\n",
              "    </tr>\n",
              "    <tr>\n",
              "      <th>1</th>\n",
              "      <td>15810944</td>\n",
              "      <td>Male</td>\n",
              "      <td>35</td>\n",
              "      <td>20000</td>\n",
              "      <td>0</td>\n",
              "    </tr>\n",
              "    <tr>\n",
              "      <th>2</th>\n",
              "      <td>15668575</td>\n",
              "      <td>Female</td>\n",
              "      <td>26</td>\n",
              "      <td>43000</td>\n",
              "      <td>0</td>\n",
              "    </tr>\n",
              "    <tr>\n",
              "      <th>3</th>\n",
              "      <td>15603246</td>\n",
              "      <td>Female</td>\n",
              "      <td>27</td>\n",
              "      <td>57000</td>\n",
              "      <td>0</td>\n",
              "    </tr>\n",
              "    <tr>\n",
              "      <th>4</th>\n",
              "      <td>15804002</td>\n",
              "      <td>Male</td>\n",
              "      <td>19</td>\n",
              "      <td>76000</td>\n",
              "      <td>0</td>\n",
              "    </tr>\n",
              "  </tbody>\n",
              "</table>\n",
              "</div>"
            ],
            "text/plain": [
              "    User ID  Gender  Age  EstimatedSalary  Purchased\n",
              "0  15624510    Male   19            19000          0\n",
              "1  15810944    Male   35            20000          0\n",
              "2  15668575  Female   26            43000          0\n",
              "3  15603246  Female   27            57000          0\n",
              "4  15804002    Male   19            76000          0"
            ]
          },
          "metadata": {},
          "execution_count": 4
        }
      ]
    },
    {
      "cell_type": "code",
      "metadata": {
        "colab": {
          "base_uri": "https://localhost:8080/",
          "height": 206
        },
        "id": "OEvs5IXAOQmz",
        "outputId": "bce64121-2f49-48ad-9685-bb452b73b939"
      },
      "source": [
        "df.tail()"
      ],
      "execution_count": null,
      "outputs": [
        {
          "output_type": "execute_result",
          "data": {
            "text/html": [
              "<div>\n",
              "<style scoped>\n",
              "    .dataframe tbody tr th:only-of-type {\n",
              "        vertical-align: middle;\n",
              "    }\n",
              "\n",
              "    .dataframe tbody tr th {\n",
              "        vertical-align: top;\n",
              "    }\n",
              "\n",
              "    .dataframe thead th {\n",
              "        text-align: right;\n",
              "    }\n",
              "</style>\n",
              "<table border=\"1\" class=\"dataframe\">\n",
              "  <thead>\n",
              "    <tr style=\"text-align: right;\">\n",
              "      <th></th>\n",
              "      <th>User ID</th>\n",
              "      <th>Gender</th>\n",
              "      <th>Age</th>\n",
              "      <th>EstimatedSalary</th>\n",
              "      <th>Purchased</th>\n",
              "    </tr>\n",
              "  </thead>\n",
              "  <tbody>\n",
              "    <tr>\n",
              "      <th>395</th>\n",
              "      <td>15691863</td>\n",
              "      <td>Female</td>\n",
              "      <td>46</td>\n",
              "      <td>41000</td>\n",
              "      <td>1</td>\n",
              "    </tr>\n",
              "    <tr>\n",
              "      <th>396</th>\n",
              "      <td>15706071</td>\n",
              "      <td>Male</td>\n",
              "      <td>51</td>\n",
              "      <td>23000</td>\n",
              "      <td>1</td>\n",
              "    </tr>\n",
              "    <tr>\n",
              "      <th>397</th>\n",
              "      <td>15654296</td>\n",
              "      <td>Female</td>\n",
              "      <td>50</td>\n",
              "      <td>20000</td>\n",
              "      <td>1</td>\n",
              "    </tr>\n",
              "    <tr>\n",
              "      <th>398</th>\n",
              "      <td>15755018</td>\n",
              "      <td>Male</td>\n",
              "      <td>36</td>\n",
              "      <td>33000</td>\n",
              "      <td>0</td>\n",
              "    </tr>\n",
              "    <tr>\n",
              "      <th>399</th>\n",
              "      <td>15594041</td>\n",
              "      <td>Female</td>\n",
              "      <td>49</td>\n",
              "      <td>36000</td>\n",
              "      <td>1</td>\n",
              "    </tr>\n",
              "  </tbody>\n",
              "</table>\n",
              "</div>"
            ],
            "text/plain": [
              "      User ID  Gender  Age  EstimatedSalary  Purchased\n",
              "395  15691863  Female   46            41000          1\n",
              "396  15706071    Male   51            23000          1\n",
              "397  15654296  Female   50            20000          1\n",
              "398  15755018    Male   36            33000          0\n",
              "399  15594041  Female   49            36000          1"
            ]
          },
          "metadata": {},
          "execution_count": 5
        }
      ]
    },
    {
      "cell_type": "code",
      "metadata": {
        "colab": {
          "base_uri": "https://localhost:8080/",
          "height": 424
        },
        "id": "w6OCERqfi4ub",
        "outputId": "47aef9f7-bfee-4f11-ca3e-aaafbb8968fa"
      },
      "source": [
        "df=df.iloc[:,2:]\n",
        "df"
      ],
      "execution_count": null,
      "outputs": [
        {
          "output_type": "execute_result",
          "data": {
            "text/html": [
              "<div>\n",
              "<style scoped>\n",
              "    .dataframe tbody tr th:only-of-type {\n",
              "        vertical-align: middle;\n",
              "    }\n",
              "\n",
              "    .dataframe tbody tr th {\n",
              "        vertical-align: top;\n",
              "    }\n",
              "\n",
              "    .dataframe thead th {\n",
              "        text-align: right;\n",
              "    }\n",
              "</style>\n",
              "<table border=\"1\" class=\"dataframe\">\n",
              "  <thead>\n",
              "    <tr style=\"text-align: right;\">\n",
              "      <th></th>\n",
              "      <th>Age</th>\n",
              "      <th>EstimatedSalary</th>\n",
              "      <th>Purchased</th>\n",
              "    </tr>\n",
              "  </thead>\n",
              "  <tbody>\n",
              "    <tr>\n",
              "      <th>0</th>\n",
              "      <td>19</td>\n",
              "      <td>19000</td>\n",
              "      <td>0</td>\n",
              "    </tr>\n",
              "    <tr>\n",
              "      <th>1</th>\n",
              "      <td>35</td>\n",
              "      <td>20000</td>\n",
              "      <td>0</td>\n",
              "    </tr>\n",
              "    <tr>\n",
              "      <th>2</th>\n",
              "      <td>26</td>\n",
              "      <td>43000</td>\n",
              "      <td>0</td>\n",
              "    </tr>\n",
              "    <tr>\n",
              "      <th>3</th>\n",
              "      <td>27</td>\n",
              "      <td>57000</td>\n",
              "      <td>0</td>\n",
              "    </tr>\n",
              "    <tr>\n",
              "      <th>4</th>\n",
              "      <td>19</td>\n",
              "      <td>76000</td>\n",
              "      <td>0</td>\n",
              "    </tr>\n",
              "    <tr>\n",
              "      <th>...</th>\n",
              "      <td>...</td>\n",
              "      <td>...</td>\n",
              "      <td>...</td>\n",
              "    </tr>\n",
              "    <tr>\n",
              "      <th>395</th>\n",
              "      <td>46</td>\n",
              "      <td>41000</td>\n",
              "      <td>1</td>\n",
              "    </tr>\n",
              "    <tr>\n",
              "      <th>396</th>\n",
              "      <td>51</td>\n",
              "      <td>23000</td>\n",
              "      <td>1</td>\n",
              "    </tr>\n",
              "    <tr>\n",
              "      <th>397</th>\n",
              "      <td>50</td>\n",
              "      <td>20000</td>\n",
              "      <td>1</td>\n",
              "    </tr>\n",
              "    <tr>\n",
              "      <th>398</th>\n",
              "      <td>36</td>\n",
              "      <td>33000</td>\n",
              "      <td>0</td>\n",
              "    </tr>\n",
              "    <tr>\n",
              "      <th>399</th>\n",
              "      <td>49</td>\n",
              "      <td>36000</td>\n",
              "      <td>1</td>\n",
              "    </tr>\n",
              "  </tbody>\n",
              "</table>\n",
              "<p>400 rows × 3 columns</p>\n",
              "</div>"
            ],
            "text/plain": [
              "     Age  EstimatedSalary  Purchased\n",
              "0     19            19000          0\n",
              "1     35            20000          0\n",
              "2     26            43000          0\n",
              "3     27            57000          0\n",
              "4     19            76000          0\n",
              "..   ...              ...        ...\n",
              "395   46            41000          1\n",
              "396   51            23000          1\n",
              "397   50            20000          1\n",
              "398   36            33000          0\n",
              "399   49            36000          1\n",
              "\n",
              "[400 rows x 3 columns]"
            ]
          },
          "metadata": {},
          "execution_count": 6
        }
      ]
    },
    {
      "cell_type": "code",
      "metadata": {
        "id": "nOfJPuOliqqL"
      },
      "source": [
        "from sklearn.model_selection import train_test_split"
      ],
      "execution_count": null,
      "outputs": []
    },
    {
      "cell_type": "code",
      "metadata": {
        "colab": {
          "base_uri": "https://localhost:8080/"
        },
        "id": "_R5MF_W8iYBz",
        "outputId": "10bd7e37-8155-401a-fb32-44e803a428b3"
      },
      "source": [
        "x_train,x_test,y_train,y_test=train_test_split(df.drop('Purchased',axis=1),\n",
        "                                               df[\"Purchased\"],test_size=0.3,random_state=0)\n",
        "x_train.shape,x_test.shape"
      ],
      "execution_count": null,
      "outputs": [
        {
          "output_type": "execute_result",
          "data": {
            "text/plain": [
              "((280, 2), (120, 2))"
            ]
          },
          "metadata": {},
          "execution_count": 8
        }
      ]
    },
    {
      "cell_type": "code",
      "metadata": {
        "id": "w3UXwnkXkAZj"
      },
      "source": [
        "from sklearn.preprocessing import StandardScaler\n",
        "\n",
        "scaler=StandardScaler()\n",
        "\n",
        "# fit the scaler to the trainset,it will learn the parameter\n",
        "scaler.fit(x_train)\n",
        "\n",
        "# transform train and test sets\n",
        "x_train_scaled=scaler.transform(x_train)\n",
        "x_test_scaled=scaler.transform(x_test)"
      ],
      "execution_count": null,
      "outputs": []
    },
    {
      "cell_type": "code",
      "metadata": {
        "colab": {
          "base_uri": "https://localhost:8080/"
        },
        "id": "o1PKx-sSpKCj",
        "outputId": "5c9e0b3a-8f41-4f3a-b156-4851697aa5e5"
      },
      "source": [
        "scaler.mean_"
      ],
      "execution_count": null,
      "outputs": [
        {
          "output_type": "execute_result",
          "data": {
            "text/plain": [
              "array([3.78642857e+01, 6.98071429e+04])"
            ]
          },
          "metadata": {},
          "execution_count": 10
        }
      ]
    },
    {
      "cell_type": "code",
      "metadata": {
        "colab": {
          "base_uri": "https://localhost:8080/"
        },
        "id": "aZl4VpfcqshQ",
        "outputId": "f1a89255-2771-435e-ba24-eb7f7964802a"
      },
      "source": [
        "#its a numpy array ,convert this below steps\n",
        "x_test_scaled"
      ],
      "execution_count": null,
      "outputs": [
        {
          "output_type": "execute_result",
          "data": {
            "text/plain": [
              "array([[-0.77101313,  0.49720103],\n",
              "       [ 0.0133054 , -0.57280368],\n",
              "       [-0.28081405,  0.15017248],\n",
              "       [-0.77101313,  0.26584866],\n",
              "       [-0.28081405, -0.57280368],\n",
              "       [-1.06513258, -1.44037507],\n",
              "       [-0.67297331, -1.5849703 ],\n",
              "       [-0.18277423,  2.14558666],\n",
              "       [-1.94749093, -0.05226085],\n",
              "       [ 0.89566375, -0.775237  ],\n",
              "       [-0.77101313, -0.60172273],\n",
              "       [-0.96709276, -0.42820845],\n",
              "       [-0.08473441, -0.42820845],\n",
              "       [ 0.11134522,  0.20801057],\n",
              "       [-1.7514113 ,  0.46828198],\n",
              "       [-0.5749335 ,  1.36477242],\n",
              "       [-0.08473441,  0.20801057],\n",
              "       [-1.84945111,  0.43936294],\n",
              "       [ 1.67998229,  1.74072002],\n",
              "       [-0.28081405, -1.38253697],\n",
              "       [-0.28081405, -0.65956082],\n",
              "       [ 0.89566375,  2.14558666],\n",
              "       [ 0.30742485, -0.54388463],\n",
              "       [ 0.89566375,  1.01774386],\n",
              "       [-1.45729185, -1.2090227 ],\n",
              "       [ 1.09174339,  2.05882953],\n",
              "       [-0.96709276,  0.49720103],\n",
              "       [-0.86905295,  0.29476771],\n",
              "       [-0.08473441, -0.22577513],\n",
              "       [-0.5749335 ,  0.46828198],\n",
              "       [-1.65337148,  0.52612008],\n",
              "       [-0.08473441,  0.26584866],\n",
              "       [ 1.87606192, -0.28361322],\n",
              "       [-0.08473441, -0.48604654],\n",
              "       [-1.35925203, -0.34145131],\n",
              "       [-1.94749093, -0.51496559],\n",
              "       [-1.55533166,  0.32368675],\n",
              "       [-0.37885386, -0.775237  ],\n",
              "       [-0.67297331, -1.03550842],\n",
              "       [ 1.09174339, -0.97767033],\n",
              "       [-1.06513258,  0.52612008],\n",
              "       [ 0.30742485, -0.51496559],\n",
              "       [-1.06513258,  0.41044389],\n",
              "       [-0.28081405, -1.44037507],\n",
              "       [ 0.50350449,  1.22017719],\n",
              "       [-1.06513258, -0.34145131],\n",
              "       [-0.08473441,  0.29476771],\n",
              "       [ 1.38586284,  0.58395817],\n",
              "       [-1.1631724 , -1.1511846 ],\n",
              "       [ 1.09174339,  0.46828198],\n",
              "       [ 1.87606192,  1.50936765],\n",
              "       [-0.37885386, -1.29577984],\n",
              "       [-0.28081405, -0.37037036],\n",
              "       [-0.37885386,  1.30693432],\n",
              "       [ 2.07214155,  0.52612008],\n",
              "       [ 0.69958412, -1.09334651],\n",
              "       [-0.86905295,  0.38152485],\n",
              "       [-1.1631724 ,  0.29476771],\n",
              "       [ 1.09174339, -1.2090227 ],\n",
              "       [-1.45729185, -1.44037507],\n",
              "       [-0.5749335 , -1.49821316],\n",
              "       [ 2.17018137, -0.80415605],\n",
              "       [-1.84945111,  0.17909152],\n",
              "       [-0.18277423,  0.84422958],\n",
              "       [-1.84945111, -1.26686079],\n",
              "       [ 2.17018137,  0.38152485],\n",
              "       [-1.35925203,  0.55503912],\n",
              "       [-1.06513258, -0.34145131],\n",
              "       [ 0.20938504, -0.65956082],\n",
              "       [ 0.40546467,  0.00557724],\n",
              "       [-0.5749335 ,  2.31910094],\n",
              "       [-0.28081405,  0.20801057],\n",
              "       [-1.55533166, -0.19685608],\n",
              "       [ 0.69958412, -1.38253697],\n",
              "       [-1.06513258,  0.55503912],\n",
              "       [-1.94749093,  0.3526058 ],\n",
              "       [ 0.40546467,  0.26584866],\n",
              "       [ 0.20938504, -0.28361322],\n",
              "       [ 1.48390265, -1.03550842],\n",
              "       [ 0.89566375,  1.07558195],\n",
              "       [ 1.97410174,  2.14558666],\n",
              "       [ 2.07214155,  0.38152485],\n",
              "       [-1.35925203, -0.42820845],\n",
              "       [-1.1631724 , -1.00658937],\n",
              "       [ 1.97410174, -0.91983223],\n",
              "       [ 0.40546467,  0.29476771],\n",
              "       [ 0.20938504,  0.15017248],\n",
              "       [ 2.07214155,  1.74072002],\n",
              "       [ 0.79762394, -0.8330751 ],\n",
              "       [ 0.30742485, -0.28361322],\n",
              "       [ 0.40546467, -0.16793703],\n",
              "       [-0.08473441,  2.20342476],\n",
              "       [-1.45729185, -0.63064177],\n",
              "       [-1.26121221, -1.06442747],\n",
              "       [-1.35925203,  0.41044389],\n",
              "       [-1.06513258,  0.75747245],\n",
              "       [-1.45729185, -0.19685608],\n",
              "       [ 0.99370357, -1.06442747],\n",
              "       [ 0.99370357,  0.58395817],\n",
              "       [ 0.40546467,  0.98882482],\n",
              "       [ 0.6015443 , -0.89091319],\n",
              "       [-0.5749335 ,  1.45152956],\n",
              "       [ 0.0133054 , -0.57280368],\n",
              "       [-0.5749335 ,  1.88531525],\n",
              "       [ 1.38586284, -1.41145602],\n",
              "       [ 1.48390265,  0.98882482],\n",
              "       [ 0.11134522, -0.80415605],\n",
              "       [ 0.0133054 , -0.25469417],\n",
              "       [-0.18277423, -0.57280368],\n",
              "       [-0.18277423, -0.19685608],\n",
              "       [-0.28081405, -1.29577984],\n",
              "       [-0.28081405, -0.57280368],\n",
              "       [ 0.40546467,  0.09233438],\n",
              "       [ 0.89566375, -0.60172273],\n",
              "       [ 2.07214155, -1.18010365],\n",
              "       [ 1.09174339, -0.13901799],\n",
              "       [ 0.69958412,  1.76963906],\n",
              "       [-0.67297331,  0.55503912],\n",
              "       [ 0.79762394,  0.3526058 ],\n",
              "       [ 0.89566375, -0.54388463]])"
            ]
          },
          "metadata": {},
          "execution_count": 11
        }
      ]
    },
    {
      "cell_type": "code",
      "metadata": {
        "id": "6wKS7Aszqzu6"
      },
      "source": [
        "# to convert the numpy array into dataframe\n",
        "x_train_scaled=pd.DataFrame(x_train_scaled,columns=x_train.columns)\n",
        "x_test_scaled=pd.DataFrame(x_test_scaled,columns=x_test.columns)"
      ],
      "execution_count": null,
      "outputs": []
    },
    {
      "cell_type": "code",
      "metadata": {
        "colab": {
          "base_uri": "https://localhost:8080/",
          "height": 424
        },
        "id": "vUzIj8CgrZp4",
        "outputId": "32471f50-fd38-40ac-84a2-3a50851f0b4c"
      },
      "source": [
        "#converted\n",
        "x_train_scaled"
      ],
      "execution_count": null,
      "outputs": [
        {
          "output_type": "execute_result",
          "data": {
            "text/html": [
              "<div>\n",
              "<style scoped>\n",
              "    .dataframe tbody tr th:only-of-type {\n",
              "        vertical-align: middle;\n",
              "    }\n",
              "\n",
              "    .dataframe tbody tr th {\n",
              "        vertical-align: top;\n",
              "    }\n",
              "\n",
              "    .dataframe thead th {\n",
              "        text-align: right;\n",
              "    }\n",
              "</style>\n",
              "<table border=\"1\" class=\"dataframe\">\n",
              "  <thead>\n",
              "    <tr style=\"text-align: right;\">\n",
              "      <th></th>\n",
              "      <th>Age</th>\n",
              "      <th>EstimatedSalary</th>\n",
              "    </tr>\n",
              "  </thead>\n",
              "  <tbody>\n",
              "    <tr>\n",
              "      <th>0</th>\n",
              "      <td>-1.163172</td>\n",
              "      <td>-1.584970</td>\n",
              "    </tr>\n",
              "    <tr>\n",
              "      <th>1</th>\n",
              "      <td>2.170181</td>\n",
              "      <td>0.930987</td>\n",
              "    </tr>\n",
              "    <tr>\n",
              "      <th>2</th>\n",
              "      <td>0.013305</td>\n",
              "      <td>1.220177</td>\n",
              "    </tr>\n",
              "    <tr>\n",
              "      <th>3</th>\n",
              "      <td>0.209385</td>\n",
              "      <td>1.075582</td>\n",
              "    </tr>\n",
              "    <tr>\n",
              "      <th>4</th>\n",
              "      <td>0.405465</td>\n",
              "      <td>-0.486047</td>\n",
              "    </tr>\n",
              "    <tr>\n",
              "      <th>...</th>\n",
              "      <td>...</td>\n",
              "      <td>...</td>\n",
              "    </tr>\n",
              "    <tr>\n",
              "      <th>275</th>\n",
              "      <td>0.993704</td>\n",
              "      <td>-1.151185</td>\n",
              "    </tr>\n",
              "    <tr>\n",
              "      <th>276</th>\n",
              "      <td>-0.869053</td>\n",
              "      <td>-0.775237</td>\n",
              "    </tr>\n",
              "    <tr>\n",
              "      <th>277</th>\n",
              "      <td>-0.182774</td>\n",
              "      <td>-0.514966</td>\n",
              "    </tr>\n",
              "    <tr>\n",
              "      <th>278</th>\n",
              "      <td>-1.065133</td>\n",
              "      <td>-0.457127</td>\n",
              "    </tr>\n",
              "    <tr>\n",
              "      <th>279</th>\n",
              "      <td>-1.163172</td>\n",
              "      <td>1.393691</td>\n",
              "    </tr>\n",
              "  </tbody>\n",
              "</table>\n",
              "<p>280 rows × 2 columns</p>\n",
              "</div>"
            ],
            "text/plain": [
              "          Age  EstimatedSalary\n",
              "0   -1.163172        -1.584970\n",
              "1    2.170181         0.930987\n",
              "2    0.013305         1.220177\n",
              "3    0.209385         1.075582\n",
              "4    0.405465        -0.486047\n",
              "..        ...              ...\n",
              "275  0.993704        -1.151185\n",
              "276 -0.869053        -0.775237\n",
              "277 -0.182774        -0.514966\n",
              "278 -1.065133        -0.457127\n",
              "279 -1.163172         1.393691\n",
              "\n",
              "[280 rows x 2 columns]"
            ]
          },
          "metadata": {},
          "execution_count": 13
        }
      ]
    },
    {
      "cell_type": "code",
      "metadata": {
        "id": "73YYo0YzroqU"
      },
      "source": [
        "import numpy as np"
      ],
      "execution_count": null,
      "outputs": []
    },
    {
      "cell_type": "code",
      "metadata": {
        "colab": {
          "base_uri": "https://localhost:8080/",
          "height": 300
        },
        "id": "zUpZzOCeXvKM",
        "outputId": "e2ee7878-19b6-4dbf-f937-65c9ecc057c3"
      },
      "source": [
        "np.round(x_train.describe(),1)"
      ],
      "execution_count": null,
      "outputs": [
        {
          "output_type": "execute_result",
          "data": {
            "text/html": [
              "<div>\n",
              "<style scoped>\n",
              "    .dataframe tbody tr th:only-of-type {\n",
              "        vertical-align: middle;\n",
              "    }\n",
              "\n",
              "    .dataframe tbody tr th {\n",
              "        vertical-align: top;\n",
              "    }\n",
              "\n",
              "    .dataframe thead th {\n",
              "        text-align: right;\n",
              "    }\n",
              "</style>\n",
              "<table border=\"1\" class=\"dataframe\">\n",
              "  <thead>\n",
              "    <tr style=\"text-align: right;\">\n",
              "      <th></th>\n",
              "      <th>Age</th>\n",
              "      <th>EstimatedSalary</th>\n",
              "    </tr>\n",
              "  </thead>\n",
              "  <tbody>\n",
              "    <tr>\n",
              "      <th>count</th>\n",
              "      <td>280.0</td>\n",
              "      <td>280.0</td>\n",
              "    </tr>\n",
              "    <tr>\n",
              "      <th>mean</th>\n",
              "      <td>37.9</td>\n",
              "      <td>69807.1</td>\n",
              "    </tr>\n",
              "    <tr>\n",
              "      <th>std</th>\n",
              "      <td>10.2</td>\n",
              "      <td>34641.2</td>\n",
              "    </tr>\n",
              "    <tr>\n",
              "      <th>min</th>\n",
              "      <td>18.0</td>\n",
              "      <td>15000.0</td>\n",
              "    </tr>\n",
              "    <tr>\n",
              "      <th>25%</th>\n",
              "      <td>30.0</td>\n",
              "      <td>43000.0</td>\n",
              "    </tr>\n",
              "    <tr>\n",
              "      <th>50%</th>\n",
              "      <td>37.0</td>\n",
              "      <td>70500.0</td>\n",
              "    </tr>\n",
              "    <tr>\n",
              "      <th>75%</th>\n",
              "      <td>46.0</td>\n",
              "      <td>88000.0</td>\n",
              "    </tr>\n",
              "    <tr>\n",
              "      <th>max</th>\n",
              "      <td>60.0</td>\n",
              "      <td>150000.0</td>\n",
              "    </tr>\n",
              "  </tbody>\n",
              "</table>\n",
              "</div>"
            ],
            "text/plain": [
              "         Age  EstimatedSalary\n",
              "count  280.0            280.0\n",
              "mean    37.9          69807.1\n",
              "std     10.2          34641.2\n",
              "min     18.0          15000.0\n",
              "25%     30.0          43000.0\n",
              "50%     37.0          70500.0\n",
              "75%     46.0          88000.0\n",
              "max     60.0         150000.0"
            ]
          },
          "metadata": {},
          "execution_count": 15
        }
      ]
    },
    {
      "cell_type": "code",
      "metadata": {
        "colab": {
          "base_uri": "https://localhost:8080/",
          "height": 300
        },
        "id": "0pCu0NimX4kB",
        "outputId": "9fa931c5-2340-4b70-9024-bde3a220a5ba"
      },
      "source": [
        "#prove that standard devation is 1 & mean is 0\n",
        "np.round(x_train_scaled.describe(),1)"
      ],
      "execution_count": null,
      "outputs": [
        {
          "output_type": "execute_result",
          "data": {
            "text/html": [
              "<div>\n",
              "<style scoped>\n",
              "    .dataframe tbody tr th:only-of-type {\n",
              "        vertical-align: middle;\n",
              "    }\n",
              "\n",
              "    .dataframe tbody tr th {\n",
              "        vertical-align: top;\n",
              "    }\n",
              "\n",
              "    .dataframe thead th {\n",
              "        text-align: right;\n",
              "    }\n",
              "</style>\n",
              "<table border=\"1\" class=\"dataframe\">\n",
              "  <thead>\n",
              "    <tr style=\"text-align: right;\">\n",
              "      <th></th>\n",
              "      <th>Age</th>\n",
              "      <th>EstimatedSalary</th>\n",
              "    </tr>\n",
              "  </thead>\n",
              "  <tbody>\n",
              "    <tr>\n",
              "      <th>count</th>\n",
              "      <td>280.0</td>\n",
              "      <td>280.0</td>\n",
              "    </tr>\n",
              "    <tr>\n",
              "      <th>mean</th>\n",
              "      <td>0.0</td>\n",
              "      <td>0.0</td>\n",
              "    </tr>\n",
              "    <tr>\n",
              "      <th>std</th>\n",
              "      <td>1.0</td>\n",
              "      <td>1.0</td>\n",
              "    </tr>\n",
              "    <tr>\n",
              "      <th>min</th>\n",
              "      <td>-1.9</td>\n",
              "      <td>-1.6</td>\n",
              "    </tr>\n",
              "    <tr>\n",
              "      <th>25%</th>\n",
              "      <td>-0.8</td>\n",
              "      <td>-0.8</td>\n",
              "    </tr>\n",
              "    <tr>\n",
              "      <th>50%</th>\n",
              "      <td>-0.1</td>\n",
              "      <td>0.0</td>\n",
              "    </tr>\n",
              "    <tr>\n",
              "      <th>75%</th>\n",
              "      <td>0.8</td>\n",
              "      <td>0.5</td>\n",
              "    </tr>\n",
              "    <tr>\n",
              "      <th>max</th>\n",
              "      <td>2.2</td>\n",
              "      <td>2.3</td>\n",
              "    </tr>\n",
              "  </tbody>\n",
              "</table>\n",
              "</div>"
            ],
            "text/plain": [
              "         Age  EstimatedSalary\n",
              "count  280.0            280.0\n",
              "mean     0.0              0.0\n",
              "std      1.0              1.0\n",
              "min     -1.9             -1.6\n",
              "25%     -0.8             -0.8\n",
              "50%     -0.1              0.0\n",
              "75%      0.8              0.5\n",
              "max      2.2              2.3"
            ]
          },
          "metadata": {},
          "execution_count": 17
        }
      ]
    },
    {
      "cell_type": "markdown",
      "metadata": {
        "id": "UO1csddva11x"
      },
      "source": [
        "## Effect of Scaling"
      ]
    },
    {
      "cell_type": "code",
      "metadata": {
        "id": "7Xa8saQWaxp_"
      },
      "source": [
        "import matplotlib.pyplot as plt\n",
        "import seaborn as sns"
      ],
      "execution_count": null,
      "outputs": []
    },
    {
      "cell_type": "code",
      "metadata": {
        "colab": {
          "base_uri": "https://localhost:8080/",
          "height": 407
        },
        "id": "FgkOuz55ayGN",
        "outputId": "290e0376-fcd8-44ef-dde4-9a2331ae6ace"
      },
      "source": [
        "fig, (ax1,ax2)=plt.subplots(ncols=2,figsize=(18,6))\n",
        "\n",
        "ax1.scatter(x_train[\"Age\"],x_train[\"EstimatedSalary\"])\n",
        "ax1.set_title(\"Before Scaling\")\n",
        "\n",
        "ax2.scatter(x_train_scaled[\"Age\"],x_train_scaled[\"EstimatedSalary\"],color=\"red\")\n",
        "ax2.set_title(\"After Scaling\")"
      ],
      "execution_count": null,
      "outputs": [
        {
          "output_type": "execute_result",
          "data": {
            "text/plain": [
              "Text(0.5, 1.0, 'After Scaling')"
            ]
          },
          "metadata": {},
          "execution_count": 21
        },
        {
          "output_type": "display_data",
          "data": {
            "image/png": "[encoded data removed]",
            "text/plain": [
              "<Figure size 1296x432 with 2 Axes>"
            ]
          },
          "metadata": {
            "needs_background": "light"
          }
        }
      ]
    },
    {
      "cell_type": "code",
      "metadata": {
        "colab": {
          "base_uri": "https://localhost:8080/",
          "height": 367
        },
        "id": "nYS-UjPQcFjI",
        "outputId": "2678cbf6-ef23-4bf5-d0d2-bef74de1e8d5"
      },
      "source": [
        "fig, (ax1,ax2)=plt.subplots(ncols=2,figsize=(12,5))\n",
        "\n",
        "#Before Scaling\n",
        "ax1.set_title(\"Before Scaling\")\n",
        "sns.kdeplot(x_train[\"Age\"],ax=ax1)\n",
        "sns.kdeplot(x_train[\"EstimatedSalary\"],ax=ax1)\n",
        "\n",
        "#After Scaling\n",
        "ax1.set_title(\"After Scaling\")\n",
        "sns.kdeplot(x_train_scaled['Age'],ax=ax2)\n",
        "sns.kdeplot(x_train_scaled[\"EstimatedSalary\"],ax=ax2)"
      ],
      "execution_count": null,
      "outputs": [
        {
          "output_type": "execute_result",
          "data": {
            "text/plain": [
              "<matplotlib.axes._subplots.AxesSubplot at 0x7f73ef384a10>"
            ]
          },
          "metadata": {},
          "execution_count": 22
        },
        {
          "output_type": "display_data",
          "data": {
            "image/png": "[encoded data removed]",
            "text/plain": [
              "<Figure size 864x360 with 2 Axes>"
            ]
          },
          "metadata": {
            "needs_background": "light"
          }
        }
      ]
    },
    {
      "cell_type": "code",
      "metadata": {
        "colab": {
          "base_uri": "https://localhost:8080/",
          "height": 367
        },
        "id": "YQ-wLKvygwEH",
        "outputId": "2f94116e-9378-4384-ceb0-b5a6a08c13da"
      },
      "source": [
        "fig, (ax1,ax2)=plt.subplots(ncols=2,figsize=(12,5))\n",
        "\n",
        "#Before Scaling\n",
        "ax1.set_title(\"Age Distribution Before Scaling\")\n",
        "sns.kdeplot(x_train[\"Age\"],ax=ax1)\n",
        "\n",
        "#After Scaling\n",
        "ax2.set_title(\"Age Distribution After Standard Scaling\")\n",
        "sns.kdeplot(x_train_scaled[\"Age\"],ax=ax2)"
      ],
      "execution_count": null,
      "outputs": [
        {
          "output_type": "execute_result",
          "data": {
            "text/plain": [
              "<matplotlib.axes._subplots.AxesSubplot at 0x7f73ebc6a250>"
            ]
          },
          "metadata": {},
          "execution_count": 23
        },
        {
          "output_type": "display_data",
          "data": {
            "image/png": "[encoded data removed]",
            "text/plain": [
              "<Figure size 864x360 with 2 Axes>"
            ]
          },
          "metadata": {
            "needs_background": "light"
          }
        }
      ]
    },
    {
      "cell_type": "code",
      "metadata": {
        "colab": {
          "base_uri": "https://localhost:8080/",
          "height": 367
        },
        "id": "qLx_TkSRk_9v",
        "outputId": "6eae1166-09c9-49f7-9e3d-a74dc8376e43"
      },
      "source": [
        "fig, (ax1,ax2)=plt.subplots(ncols=2,figsize=(12,5))\n",
        "\n",
        "#Before Scaling\n",
        "ax1.set_title(\"Salary Distribution Before Scaling\")\n",
        "sns.kdeplot(x_train[\"EstimatedSalary\"],ax=ax1)\n",
        "\n",
        "#After Scaling\n",
        "ax2.set_title(\"Salary Distribution After Standard Scaling\")\n",
        "sns.kdeplot(x_train_scaled[\"EstimatedSalary\"],ax=ax2)"
      ],
      "execution_count": null,
      "outputs": [
        {
          "output_type": "execute_result",
          "data": {
            "text/plain": [
              "<matplotlib.axes._subplots.AxesSubplot at 0x7f73ebb271d0>"
            ]
          },
          "metadata": {},
          "execution_count": 24
        },
        {
          "output_type": "display_data",
          "data": {
            "image/png": "[encoded data removed]",
            "text/plain": [
              "<Figure size 864x360 with 2 Axes>"
            ]
          },
          "metadata": {
            "needs_background": "light"
          }
        }
      ]
    },
    {
      "cell_type": "markdown",
      "metadata": {
        "id": "f6pxgW_ysqq7"
      },
      "source": [
        "## Why Scaling is Important ?"
      ]
    },
    {
      "cell_type": "code",
      "metadata": {
        "id": "tbHQm5Y5soT8"
      },
      "source": [
        "from sklearn.linear_model import LogisticRegression"
      ],
      "execution_count": null,
      "outputs": []
    },
    {
      "cell_type": "code",
      "metadata": {
        "id": "8OS7zULjsobZ"
      },
      "source": [
        "lr=LogisticRegression()\n",
        "lr_scaled=LogisticRegression()"
      ],
      "execution_count": null,
      "outputs": []
    },
    {
      "cell_type": "code",
      "metadata": {
        "colab": {
          "base_uri": "https://localhost:8080/"
        },
        "id": "ihufoDersoed",
        "outputId": "d1f00f79-2fe8-4e9c-d582-a5c90c51c6b3"
      },
      "source": [
        "lr.fit(x_train,y_train)\n",
        "lr_scaled.fit(x_train_scaled,y_train)"
      ],
      "execution_count": null,
      "outputs": [
        {
          "output_type": "execute_result",
          "data": {
            "text/plain": [
              "LogisticRegression()"
            ]
          },
          "metadata": {},
          "execution_count": 27
        }
      ]
    },
    {
      "cell_type": "code",
      "metadata": {
        "id": "7ywKtFsfsoh9"
      },
      "source": [
        "y_pred=lr.predict(x_test)\n",
        "y_pred_scaled=lr_scaled.predict(x_test_scaled)"
      ],
      "execution_count": null,
      "outputs": []
    },
    {
      "cell_type": "code",
      "metadata": {
        "id": "j2_gNWcksolr"
      },
      "source": [
        "from sklearn.metrics import accuracy_score"
      ],
      "execution_count": null,
      "outputs": []
    },
    {
      "cell_type": "code",
      "metadata": {
        "colab": {
          "base_uri": "https://localhost:8080/"
        },
        "id": "suKp38zhsork",
        "outputId": "5b7ab8df-b070-467c-cb0d-995914b1735f"
      },
      "source": [
        "print('Actual',accuracy_score(y_test,y_pred))\n",
        "print('Scaled',accuracy_score(y_test,y_pred_scaled))"
      ],
      "execution_count": null,
      "outputs": [
        {
          "output_type": "stream",
          "name": "stdout",
          "text": [
            "Actual 0.6583333333333333\n",
            "Scaled 0.8666666666666667\n"
          ]
        }
      ]
    }
  ]
}